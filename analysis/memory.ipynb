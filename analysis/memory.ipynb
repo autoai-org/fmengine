{
 "cells": [
  {
   "cell_type": "code",
   "execution_count": null,
   "id": "initial_id",
   "metadata": {
    "collapsed": true
   },
   "outputs": [],
   "source": [
    "import pathlib\n",
    "from typing import List\n",
    "\n",
    "import matplotlib.pyplot as plt"
   ]
  },
  {
   "cell_type": "code",
   "execution_count": null,
   "outputs": [],
   "source": [
    "RANK = 4\n",
    "\n",
    "class ExpDir:\n",
    "    def __init__(self, exp_dir: pathlib.Path):\n",
    "        self.exp_dir = exp_dir\n",
    "        \n",
    "        # parse exp_dir name: <date>-<dataset>-<config>-<seq_len>\n",
    "        self.date, self.dataset, self.config, self.seq_len = exp_dir.name.split('-')\n",
    "        self.seq_len = int(self.seq_len)\n",
    "    \n",
    "    def __repr__(self):\n",
    "        return f'ExpDir({self.exp_dir.name}), seq_len={self.seq_len}'\n",
    "    \n",
    "    @staticmethod\n",
    "    def format_res(res: str) -> float:\n",
    "        # bytes to GB\n",
    "        return round(float(res) / 1024 / 1024 / 1024, 3)\n",
    "    \n",
    "    def read_single_res(self, res_file: pathlib.Path) -> float:\n",
    "        with open(res_file, 'r') as f:\n",
    "            res = f.read()\n",
    "        return self.format_res(res)\n",
    "    \n",
    "    def read_res(self) -> List[int]:\n",
    "        res_list = []\n",
    "        for rank in range(RANK):\n",
    "            res_file = self.exp_dir / f'mem-{rank}.txt'\n",
    "            assert res_file.exists(), f'{res_file} not exists'\n",
    "            res_list.append(self.read_single_res(res_file))\n",
    "        return res_list"
   ],
   "metadata": {
    "collapsed": false
   },
   "id": "f08e42f5cbe63de7"
  },
  {
   "cell_type": "code",
   "execution_count": null,
   "outputs": [],
   "source": [
    "base_dir = pathlib.Path('../output')\n",
    "exp_dir_list = base_dir.glob('20231102_1-*')\n",
    "exp_dir_dict = {}\n",
    "for exp_dir in exp_dir_list:\n",
    "    exp_dir = ExpDir(exp_dir)\n",
    "    exp_dir_dict[exp_dir.seq_len] = exp_dir\n",
    "\n",
    "data_x = sorted(exp_dir_dict.keys())\n",
    "data_y = [[] for _ in range(RANK)]\n",
    "for seq_len in data_x:\n",
    "    exp_dir = exp_dir_dict[seq_len]\n",
    "    res_list = exp_dir.read_res()\n",
    "    for rank, res in enumerate(res_list):\n",
    "        data_y[rank].append(res)"
   ],
   "metadata": {
    "collapsed": false
   },
   "id": "2b29f17d7ba6e5e0"
  },
  {
   "cell_type": "code",
   "execution_count": null,
   "outputs": [],
   "source": [
    "from calculator import MemModel\n",
    "\n",
    "data_ground_truth = []\n",
    "for x in data_x:\n",
    "    m = MemModel(s=x, L=8)\n",
    "    data_ground_truth.append(m.bytes_to_gb(m.total))\n",
    "data_ground_truth"
   ],
   "metadata": {
    "collapsed": false
   },
   "id": "cdd4c57f29970c32"
  },
  {
   "cell_type": "code",
   "execution_count": null,
   "outputs": [],
   "source": [
    "# # make individual plot for each rank\n",
    "# for rank in range(RANK):\n",
    "#     plt.figure()\n",
    "#     plt.plot(data_x, data_y[rank], 'o-')\n",
    "#     plt.grid()\n",
    "#     plt.xlabel('seq_len')\n",
    "#     plt.ylabel('mem (GB)')\n",
    "#     plt.title(f'rank {rank}')\n",
    "#     # plt.savefig(f'rank-{rank}.png')\n",
    "\n",
    "# Create a figure with subplots\n",
    "fig, axs = plt.subplots(RANK // 2, 2, figsize=(12, 12))\n",
    "\n",
    "# Reshape axs to a 1D array for easier indexing\n",
    "axs = axs.ravel()\n",
    "\n",
    "# Loop through each rank\n",
    "for rank in range(RANK):\n",
    "    ax = axs[rank]\n",
    "\n",
    "    # Plot the data\n",
    "    ax.plot(data_x, data_y[rank], 'o-', label='actual')\n",
    "    ax.plot(data_x, data_ground_truth, 'o-', color='grey', alpha=0.5, label='theoretical')\n",
    "    ax.grid()\n",
    "    ax.set_xlabel('seq_len')\n",
    "    ax.set_ylabel('mem (GB)')\n",
    "    ax.set_title(f'rank {rank}')\n",
    "    ax.legend()\n",
    "\n",
    "# Adjust the layout and display the plot\n",
    "plt.tight_layout()\n",
    "plt.show()"
   ],
   "metadata": {
    "collapsed": false
   },
   "id": "a984061a745b145b"
  }
 ],
 "metadata": {
  "kernelspec": {
   "display_name": "Python 3",
   "language": "python",
   "name": "python3"
  },
  "language_info": {
   "codemirror_mode": {
    "name": "ipython",
    "version": 2
   },
   "file_extension": ".py",
   "mimetype": "text/x-python",
   "name": "python",
   "nbconvert_exporter": "python",
   "pygments_lexer": "ipython2",
   "version": "2.7.6"
  }
 },
 "nbformat": 4,
 "nbformat_minor": 5
}
